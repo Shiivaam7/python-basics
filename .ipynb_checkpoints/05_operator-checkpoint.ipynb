{
 "cells": [
  {
   "cell_type": "code",
   "execution_count": 1,
   "id": "dcb0ef3a-cd83-46c8-85b4-bccf496d68b1",
   "metadata": {},
   "outputs": [
    {
     "data": {
      "text/plain": [
       "-20.956521739130434"
      ]
     },
     "execution_count": 1,
     "metadata": {},
     "output_type": "execute_result"
    }
   ],
   "source": [
    "54*3/23+4-32"
   ]
  },
  {
   "cell_type": "code",
   "execution_count": null,
   "id": "ba3672b0-7a4d-475d-a483-7ca0546fef1b",
   "metadata": {},
   "outputs": [],
   "source": []
  }
 ],
 "metadata": {
  "kernelspec": {
   "display_name": "Python 3 (ipykernel)",
   "language": "python",
   "name": "python3"
  },
  "language_info": {
   "codemirror_mode": {
    "name": "ipython",
    "version": 3
   },
   "file_extension": ".py",
   "mimetype": "text/x-python",
   "name": "python",
   "nbconvert_exporter": "python",
   "pygments_lexer": "ipython3",
   "version": "3.12.7"
  }
 },
 "nbformat": 4,
 "nbformat_minor": 5
}
