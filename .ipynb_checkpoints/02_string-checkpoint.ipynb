{
 "cells": [
  {
   "cell_type": "code",
   "execution_count": 1,
   "id": "2594e28b-d5c5-4a45-8037-9a54b98e4c5a",
   "metadata": {},
   "outputs": [],
   "source": [
    "name = \"shivam\""
   ]
  },
  {
   "cell_type": "code",
   "execution_count": 2,
   "id": "e5fe1558-0cc1-462e-957f-e68255e8fac2",
   "metadata": {},
   "outputs": [
    {
     "data": {
      "text/plain": [
       "'shivam'"
      ]
     },
     "execution_count": 2,
     "metadata": {},
     "output_type": "execute_result"
    }
   ],
   "source": [
    "name"
   ]
  },
  {
   "cell_type": "code",
   "execution_count": 3,
   "id": "1989d736-64f8-4f5a-80b9-957f3d8fcee0",
   "metadata": {},
   "outputs": [
    {
     "data": {
      "text/plain": [
       "'SHIVAM'"
      ]
     },
     "execution_count": 3,
     "metadata": {},
     "output_type": "execute_result"
    }
   ],
   "source": [
    "name.upper()"
   ]
  },
  {
   "cell_type": "code",
   "execution_count": 4,
   "id": "cf1aeb12-bfc1-4511-95f2-0a612d3e352c",
   "metadata": {},
   "outputs": [
    {
     "data": {
      "text/plain": [
       "True"
      ]
     },
     "execution_count": 4,
     "metadata": {},
     "output_type": "execute_result"
    }
   ],
   "source": [
    "name.endswith(\"am\")"
   ]
  },
  {
   "cell_type": "code",
   "execution_count": 6,
   "id": "23be8c8b-6cef-43db-90d4-2855ce463fa8",
   "metadata": {},
   "outputs": [
    {
     "data": {
      "text/plain": [
       "False"
      ]
     },
     "execution_count": 6,
     "metadata": {},
     "output_type": "execute_result"
    }
   ],
   "source": [
    "name.endswith(\"harry\")"
   ]
  },
  {
   "cell_type": "code",
   "execution_count": 7,
   "id": "5b58a748-7b0d-41d7-9c40-84c033040093",
   "metadata": {},
   "outputs": [
    {
     "data": {
      "text/plain": [
       "'shivam'"
      ]
     },
     "execution_count": 7,
     "metadata": {},
     "output_type": "execute_result"
    }
   ],
   "source": [
    "name.lower()"
   ]
  },
  {
   "cell_type": "code",
   "execution_count": 8,
   "id": "0a8b03c5-08e1-4874-88f3-433a7f883be9",
   "metadata": {},
   "outputs": [
    {
     "data": {
      "text/plain": [
       "1"
      ]
     },
     "execution_count": 8,
     "metadata": {},
     "output_type": "execute_result"
    }
   ],
   "source": [
    "name.count(\"a\")"
   ]
  },
  {
   "cell_type": "code",
   "execution_count": 9,
   "id": "899aed6c-8b15-4475-9cb0-6b013adc7b4c",
   "metadata": {},
   "outputs": [
    {
     "name": "stdout",
     "output_type": "stream",
     "text": [
      "13\n"
     ]
    }
   ],
   "source": [
    "s = \"codewithharry\"\n",
    "print(len(s)) "
   ]
  },
  {
   "cell_type": "code",
   "execution_count": 10,
   "id": "e55daf5f-16e3-4912-b81c-55d7c82f7081",
   "metadata": {},
   "outputs": [
    {
     "data": {
      "text/plain": [
       "'codew'"
      ]
     },
     "execution_count": 10,
     "metadata": {},
     "output_type": "execute_result"
    }
   ],
   "source": [
    "s[0:5]"
   ]
  },
  {
   "cell_type": "code",
   "execution_count": 11,
   "id": "a27a22bb-83ee-49bc-b742-f1e13c463fb5",
   "metadata": {},
   "outputs": [
    {
     "data": {
      "text/plain": [
       "'odewithharr'"
      ]
     },
     "execution_count": 11,
     "metadata": {},
     "output_type": "execute_result"
    }
   ],
   "source": [
    "s[1:12]"
   ]
  },
  {
   "cell_type": "code",
   "execution_count": 12,
   "id": "76c5d7a6-abed-432d-a6eb-0e0dddf56e33",
   "metadata": {},
   "outputs": [
    {
     "data": {
      "text/plain": [
       "'odewithharr'"
      ]
     },
     "execution_count": 12,
     "metadata": {},
     "output_type": "execute_result"
    }
   ],
   "source": [
    "s[-12:-1]"
   ]
  },
  {
   "cell_type": "code",
   "execution_count": null,
   "id": "756bd07e-a519-46f3-8cae-3403664eb211",
   "metadata": {},
   "outputs": [],
   "source": []
  }
 ],
 "metadata": {
  "kernelspec": {
   "display_name": "Python 3 (ipykernel)",
   "language": "python",
   "name": "python3"
  },
  "language_info": {
   "codemirror_mode": {
    "name": "ipython",
    "version": 3
   },
   "file_extension": ".py",
   "mimetype": "text/x-python",
   "name": "python",
   "nbconvert_exporter": "python",
   "pygments_lexer": "ipython3",
   "version": "3.12.7"
  }
 },
 "nbformat": 4,
 "nbformat_minor": 5
}
