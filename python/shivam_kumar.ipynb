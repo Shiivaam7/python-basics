{
 "cells": [
  {
   "cell_type": "code",
   "execution_count": null,
   "id": "a2b9bbba",
   "metadata": {},
   "outputs": [],
   "source": [
    "# Assignment: Introduction to NumPy\n",
    "\n",
    "# Part 1: NumPy Basics\n",
    "\n",
    "# 1. Installing and Verifying NumPy\n",
    "import numpy as np\n",
    "print(\"NumPy is installed. Version:\", np.__version__)"
   ]
  },
  {
   "cell_type": "code",
   "execution_count": 5,
   "id": "5cfa727c",
   "metadata": {},
   "outputs": [
    {
     "name": "stdout",
     "output_type": "stream",
     "text": [
      "One-dimensional array: [ 1  2  3  4  5  6  7  8  9 10]\n",
      "Two-dimensional array:\n",
      " [[91 57 34]\n",
      " [55 27 69]\n",
      " [35  4 63]]\n",
      "Equally spaced array: [0.         0.11111111 0.22222222 0.33333333 0.44444444 0.55555556\n",
      " 0.66666667 0.77777778 0.88888889 1.        ]\n"
     ]
    }
   ],
   "source": [
    "# 2. Creating Arrays\n",
    "one_d_array = np.arange(1, 11)\n",
    "two_d_array = np.random.randint(1, 101, (3, 3))\n",
    "equally_spaced = np.linspace(0, 1, 10)\n",
    "print(\"One-dimensional array:\", one_d_array)\n",
    "print(\"Two-dimensional array:\\n\", two_d_array)\n",
    "print(\"Equally spaced array:\", equally_spaced)\n"
   ]
  },
  {
   "cell_type": "code",
   "execution_count": 6,
   "id": "b189c97d",
   "metadata": {},
   "outputs": [
    {
     "name": "stdout",
     "output_type": "stream",
     "text": [
      "Shape of one_d_array: (10,)\n",
      "Size of one_d_array: 10\n",
      "Data type of one_d_array: int64\n",
      "Shape of two_d_array: (3, 3)\n",
      "Size of two_d_array: 9\n",
      "Data type of two_d_array: int32\n",
      "Shape of equally_spaced: (10,)\n",
      "Size of equally_spaced: 10\n",
      "Data type of equally_spaced: float64\n"
     ]
    }
   ],
   "source": [
    "# 3. Array Properties\n",
    "print(\"Shape of one_d_array:\", one_d_array.shape)\n",
    "print(\"Size of one_d_array:\", one_d_array.size)\n",
    "print(\"Data type of one_d_array:\", one_d_array.dtype)\n",
    "\n",
    "print(\"Shape of two_d_array:\", two_d_array.shape)\n",
    "print(\"Size of two_d_array:\", two_d_array.size)\n",
    "print(\"Data type of two_d_array:\", two_d_array.dtype)\n",
    "\n",
    "print(\"Shape of equally_spaced:\", equally_spaced.shape)\n",
    "print(\"Size of equally_spaced:\", equally_spaced.size)\n",
    "print(\"Data type of equally_spaced:\", equally_spaced.dtype)"
   ]
  },
  {
   "cell_type": "code",
   "execution_count": 8,
   "id": "c0a617df",
   "metadata": {},
   "outputs": [
    {
     "name": "stdout",
     "output_type": "stream",
     "text": [
      "5th element of one_d_array: 5\n",
      "Second row of two_d_array: [55 27 69]\n",
      "First three elements: [1 2 3]\n",
      "Modified one_d_array: [ 1  2  3  4  5  6  7  8  9 99]\n"
     ]
    }
   ],
   "source": [
    "# Part 2: Indexing & Slicing\n",
    "\n",
    "# 4. Accessing Elements\n",
    "fifth_element = one_d_array[4]\n",
    "second_row = two_d_array[1]\n",
    "first_three = one_d_array[:3]\n",
    "one_d_array[-1] = 99\n",
    "\n",
    "print(\"5th element of one_d_array:\", fifth_element)\n",
    "print(\"Second row of two_d_array:\", second_row)\n",
    "print(\"First three elements:\", first_three)\n",
    "print(\"Modified one_d_array:\", one_d_array)\n"
   ]
  },
  {
   "cell_type": "code",
   "execution_count": 9,
   "id": "5f53bcc4",
   "metadata": {},
   "outputs": [
    {
     "name": "stdout",
     "output_type": "stream",
     "text": [
      "Elements greater than 5: [ 6  7  8  9 99]\n",
      "1st and 3rd rows of two_d_array:\n",
      " [[91 57 34]\n",
      " [35  4 63]]\n"
     ]
    }
   ],
   "source": [
    "# 5. Boolean Indexing & Fancy Indexing\n",
    "greater_than_five = one_d_array[one_d_array > 5]\n",
    "specific_rows = two_d_array[[0, 2]]\n",
    "\n",
    "print(\"Elements greater than 5:\", greater_than_five)\n",
    "print(\"1st and 3rd rows of two_d_array:\\n\", specific_rows)"
   ]
  },
  {
   "cell_type": "code",
   "execution_count": 10,
   "id": "eed9ca22",
   "metadata": {},
   "outputs": [
    {
     "name": "stdout",
     "output_type": "stream",
     "text": [
      "Addition: [5 7 9]\n",
      "Subtraction: [-3 -3 -3]\n",
      "Multiplication: [ 4 10 18]\n",
      "Division: [0.25 0.4  0.5 ]\n",
      "Square root: [1.         1.41421356 1.73205081]\n",
      "Exponential: [ 2.71828183  7.3890561  20.08553692]\n"
     ]
    }
   ],
   "source": [
    "# Part 3: NumPy Operations\n",
    "\n",
    "# 6. Mathematical Operations\n",
    "array1 = np.array([1, 2, 3])\n",
    "array2 = np.array([4, 5, 6])\n",
    "\n",
    "print(\"Addition:\", array1 + array2)\n",
    "print(\"Subtraction:\", array1 - array2)\n",
    "print(\"Multiplication:\", array1 * array2)\n",
    "print(\"Division:\", array1 / array2)\n",
    "\n",
    "print(\"Square root:\", np.sqrt(array1))\n",
    "print(\"Exponential:\", np.exp(array1))"
   ]
  },
  {
   "cell_type": "code",
   "execution_count": 11,
   "id": "f2397380",
   "metadata": {},
   "outputs": [
    {
     "name": "stdout",
     "output_type": "stream",
     "text": [
      "Sum: 150\n",
      "Mean: 30.0\n",
      "Standard Deviation: 14.142135623730951\n",
      "Min: 10\n",
      "Max: 50\n",
      "Index of Min: 0\n",
      "Index of Max: 4\n"
     ]
    }
   ],
   "source": [
    "# 7. Aggregation Functions\n",
    "sample_array = np.array([10, 20, 30, 40, 50])\n",
    "\n",
    "print(\"Sum:\", np.sum(sample_array))\n",
    "print(\"Mean:\", np.mean(sample_array))\n",
    "print(\"Standard Deviation:\", np.std(sample_array))\n",
    "print(\"Min:\", np.min(sample_array))\n",
    "print(\"Max:\", np.max(sample_array))\n",
    "print(\"Index of Min:\", np.argmin(sample_array))\n",
    "print(\"Index of Max:\", np.argmax(sample_array))\n"
   ]
  },
  {
   "cell_type": "code",
   "execution_count": 13,
   "id": "1c573354",
   "metadata": {},
   "outputs": [
    {
     "name": "stdout",
     "output_type": "stream",
     "text": [
      "Matrix 1:\n",
      " [[9 5 9]\n",
      " [7 5 2]\n",
      " [8 9 5]]\n",
      "Matrix 2:\n",
      " [[8 5 5]\n",
      " [2 5 3]\n",
      " [1 4 9]]\n",
      "Matrix Multiplication:\n",
      " [[ 91 106 141]\n",
      " [ 68  68  68]\n",
      " [ 87 105 112]]\n",
      "Transpose of Matrix 1:\n",
      " [[9 7 8]\n",
      " [5 5 9]\n",
      " [9 2 5]]\n",
      "Inverse of Matrix 1:\n",
      " [[ 0.04        0.32       -0.2       ]\n",
      " [-0.10857143 -0.15428571  0.25714286]\n",
      " [ 0.13142857 -0.23428571  0.05714286]]\n"
     ]
    }
   ],
   "source": [
    "# 8. Matrix Operations\n",
    "matrix1 = np.random.randint(1, 10, (3, 3))\n",
    "matrix2 = np.random.randint(1, 10, (3, 3))\n",
    "\n",
    "print(\"Matrix 1:\\n\", matrix1)\n",
    "print(\"Matrix 2:\\n\", matrix2)\n",
    "print(\"Matrix Multiplication:\\n\", np.dot(matrix1, matrix2))\n",
    "\n",
    "print(\"Transpose of Matrix 1:\\n\", matrix1.T)\n",
    "\n",
    "try:\n",
    "    inverse_matrix1 = np.linalg.inv(matrix1)\n",
    "    print(\"Inverse of Matrix 1:\\n\", inverse_matrix1)\n",
    "except np.linalg.LinAlgError:\n",
    "    print(\"Matrix 1 is not invertible.\")\n"
   ]
  },
  {
   "cell_type": "code",
   "execution_count": 14,
   "id": "79dfb228",
   "metadata": {},
   "outputs": [
    {
     "name": "stdout",
     "output_type": "stream",
     "text": [
      "Reshaped 3x3 array:\n",
      " [[0 1 2]\n",
      " [3 4 5]\n",
      " [6 7 8]]\n",
      "Concatenated along rows:\n",
      " [[1 2]\n",
      " [3 4]\n",
      " [5 6]\n",
      " [7 8]]\n",
      "Concatenated along columns:\n",
      " [[1 2 5 6]\n",
      " [3 4 7 8]]\n"
     ]
    }
   ],
   "source": [
    "# Part 4: Advanced NumPy\n",
    "\n",
    "# 9. Reshaping & Concatenation\n",
    "array_9 = np.arange(9)\n",
    "reshaped_array = array_9.reshape((3, 3))\n",
    "\n",
    "array_a = np.array([[1, 2], [3, 4]])\n",
    "array_b = np.array([[5, 6], [7, 8]])\n",
    "\n",
    "concat_rows = np.concatenate((array_a, array_b), axis=0)\n",
    "concat_cols = np.concatenate((array_a, array_b), axis=1)\n",
    "\n",
    "print(\"Reshaped 3x3 array:\\n\", reshaped_array)\n",
    "print(\"Concatenated along rows:\\n\", concat_rows)\n",
    "print(\"Concatenated along columns:\\n\", concat_cols)\n"
   ]
  },
  {
   "cell_type": "code",
   "execution_count": 15,
   "id": "e68f38e9",
   "metadata": {},
   "outputs": [
    {
     "name": "stdout",
     "output_type": "stream",
     "text": [
      "Identity Matrix:\n",
      " [[1. 0. 0. 0.]\n",
      " [0. 1. 0. 0.]\n",
      " [0. 0. 1. 0.]\n",
      " [0. 0. 0. 1.]]\n",
      "Array of Zeros:\n",
      " [[0. 0. 0.]\n",
      " [0. 0. 0.]]\n",
      "Array of Ones:\n",
      " [[1. 1.]\n",
      " [1. 1.]\n",
      " [1. 1.]]\n"
     ]
    }
   ],
   "source": [
    "# 10. Generating Special Arrays\n",
    "identity_matrix = np.eye(4)\n",
    "zeros_array = np.zeros((2, 3))\n",
    "ones_array = np.ones((3, 2))\n",
    "\n",
    "print(\"Identity Matrix:\\n\", identity_matrix)\n",
    "print(\"Array of Zeros:\\n\", zeros_array)\n",
    "print(\"Array of Ones:\\n\", ones_array)\n"
   ]
  }
 ],
 "metadata": {
  "kernelspec": {
   "display_name": "Python 3",
   "language": "python",
   "name": "python3"
  },
  "language_info": {
   "codemirror_mode": {
    "name": "ipython",
    "version": 3
   },
   "file_extension": ".py",
   "mimetype": "text/x-python",
   "name": "python",
   "nbconvert_exporter": "python",
   "pygments_lexer": "ipython3",
   "version": "3.12.5"
  }
 },
 "nbformat": 4,
 "nbformat_minor": 5
}
