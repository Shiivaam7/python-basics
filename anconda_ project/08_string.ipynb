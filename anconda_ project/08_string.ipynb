{
 "cells": [
  {
   "cell_type": "code",
   "execution_count": 2,
   "id": "a00be1a9-526a-4401-95f5-085ca6346908",
   "metadata": {},
   "outputs": [
    {
     "name": "stdout",
     "output_type": "stream",
     "text": [
      "my name is john and i am 55 years old.\n"
     ]
    }
   ],
   "source": [
    "name = \"john\"\n",
    "age = 55\n",
    "print(\"my name is {} and i am {} years old.\".format(name,age))"
   ]
  },
  {
   "cell_type": "code",
   "execution_count": 3,
   "id": "41d753fa-8de9-4d08-bca5-930f4aaf23e0",
   "metadata": {},
   "outputs": [
    {
     "name": "stdout",
     "output_type": "stream",
     "text": [
      "my name is john and i am 55 years old.\n"
     ]
    }
   ],
   "source": [
    "print(f\"my name is {name} and i am {age} years old.\")"
   ]
  },
  {
   "cell_type": "code",
   "execution_count": 5,
   "id": "cd45f197-164b-4a47-8bd6-c17ace304cf3",
   "metadata": {},
   "outputs": [
    {
     "name": "stdout",
     "output_type": "stream",
     "text": [
      "python    \n",
      "    python\n",
      "  python  \n"
     ]
    }
   ],
   "source": [
    "#padding and aligment\n",
    "print(f\"{'python':<10}\")\n",
    "print(f\"{'python':>10}\")\n",
    "print(f\"{'python':^10}\")"
   ]
  },
  {
   "cell_type": "code",
   "execution_count": 6,
   "id": "74518bec-9bd0-4912-ad1a-af6eac532bdf",
   "metadata": {},
   "outputs": [],
   "source": [
    "s = \"shivam\"\n"
   ]
  },
  {
   "cell_type": "code",
   "execution_count": 8,
   "id": "61047cf0-b33c-43b4-acf6-3ab874a4af60",
   "metadata": {},
   "outputs": [
    {
     "data": {
      "text/plain": [
       "'SHIVAM'"
      ]
     },
     "execution_count": 8,
     "metadata": {},
     "output_type": "execute_result"
    }
   ],
   "source": [
    "s.upper()"
   ]
  },
  {
   "cell_type": "code",
   "execution_count": 9,
   "id": "df8caca8-fae0-4f22-aa67-8e28b3769f78",
   "metadata": {},
   "outputs": [
    {
     "data": {
      "text/plain": [
       "'shivam'"
      ]
     },
     "execution_count": 9,
     "metadata": {},
     "output_type": "execute_result"
    }
   ],
   "source": [
    "s"
   ]
  },
  {
   "cell_type": "code",
   "execution_count": null,
   "id": "93f501ac-920d-4a34-8b54-c95708caa450",
   "metadata": {},
   "outputs": [],
   "source": []
  }
 ],
 "metadata": {
  "kernelspec": {
   "display_name": "Python 3 (ipykernel)",
   "language": "python",
   "name": "python3"
  },
  "language_info": {
   "codemirror_mode": {
    "name": "ipython",
    "version": 3
   },
   "file_extension": ".py",
   "mimetype": "text/x-python",
   "name": "python",
   "nbconvert_exporter": "python",
   "pygments_lexer": "ipython3",
   "version": "3.12.7"
  }
 },
 "nbformat": 4,
 "nbformat_minor": 5
}
