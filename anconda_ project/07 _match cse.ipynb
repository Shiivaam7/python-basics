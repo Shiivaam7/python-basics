{
 "cells": [
  {
   "cell_type": "code",
   "execution_count": 1,
   "id": "eebab567-e16a-4736-873f-8e1d08b16589",
   "metadata": {},
   "outputs": [],
   "source": [
    "code = 500"
   ]
  },
  {
   "cell_type": "code",
   "execution_count": 3,
   "id": "59c9ef3a-bcf4-40c7-ae10-3c147addcbab",
   "metadata": {},
   "outputs": [
    {
     "name": "stdout",
     "output_type": "stream",
     "text": [
      "End of program\n"
     ]
    }
   ],
   "source": [
    "match code:\n",
    "    case 200:\n",
    "        print(\"Response ok\")\n",
    "    case 400:\n",
    "        print(\"bad response\")\n",
    "    case 404:\n",
    "        print(\"not found\")\n",
    "print(\"End of program\")\n",
    "     "
   ]
  },
  {
   "cell_type": "code",
   "execution_count": null,
   "id": "bc392830-7602-4770-b8a1-147e07374d2b",
   "metadata": {},
   "outputs": [],
   "source": []
  }
 ],
 "metadata": {
  "kernelspec": {
   "display_name": "Python 3 (ipykernel)",
   "language": "python",
   "name": "python3"
  },
  "language_info": {
   "codemirror_mode": {
    "name": "ipython",
    "version": 3
   },
   "file_extension": ".py",
   "mimetype": "text/x-python",
   "name": "python",
   "nbconvert_exporter": "python",
   "pygments_lexer": "ipython3",
   "version": "3.12.7"
  }
 },
 "nbformat": 4,
 "nbformat_minor": 5
}
