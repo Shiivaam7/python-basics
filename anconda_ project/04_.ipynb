{
 "cells": [
  {
   "cell_type": "code",
   "execution_count": 7,
   "id": "c6a61a4d-2b00-45c1-ae73-090b98fa6d35",
   "metadata": {},
   "outputs": [
    {
     "name": "stdin",
     "output_type": "stream",
     "text": [
      " Enter the value of a  34\n"
     ]
    }
   ],
   "source": [
    "a = input(\" Enter the value of a \")"
   ]
  },
  {
   "cell_type": "code",
   "execution_count": 8,
   "id": "df232c80-1434-424e-9911-f0310e9867a9",
   "metadata": {},
   "outputs": [
    {
     "data": {
      "text/plain": [
       "'34'"
      ]
     },
     "execution_count": 8,
     "metadata": {},
     "output_type": "execute_result"
    }
   ],
   "source": [
    "a"
   ]
  },
  {
   "cell_type": "code",
   "execution_count": 9,
   "id": "80a5e123-14e8-4202-9f6b-038e6294bfa2",
   "metadata": {},
   "outputs": [
    {
     "name": "stdin",
     "output_type": "stream",
     "text": [
      " enter the value b  45\n"
     ]
    }
   ],
   "source": [
    "b = input(\" enter the value b \")"
   ]
  },
  {
   "cell_type": "code",
   "execution_count": 10,
   "id": "addcceda-af74-4706-bd20-4fedfb6021a4",
   "metadata": {},
   "outputs": [
    {
     "data": {
      "text/plain": [
       "'3445'"
      ]
     },
     "execution_count": 10,
     "metadata": {},
     "output_type": "execute_result"
    }
   ],
   "source": [
    "a+b"
   ]
  },
  {
   "cell_type": "code",
   "execution_count": 11,
   "id": "aa330482-ed9c-42bb-a19f-268b70a8d3b5",
   "metadata": {},
   "outputs": [
    {
     "data": {
      "text/plain": [
       "79"
      ]
     },
     "execution_count": 11,
     "metadata": {},
     "output_type": "execute_result"
    }
   ],
   "source": [
    "int(a)+int(b)"
   ]
  },
  {
   "cell_type": "code",
   "execution_count": null,
   "id": "9e0a1ea3-295b-4cd2-85ee-85860af48af0",
   "metadata": {},
   "outputs": [],
   "source": []
  }
 ],
 "metadata": {
  "kernelspec": {
   "display_name": "Python 3 (ipykernel)",
   "language": "python",
   "name": "python3"
  },
  "language_info": {
   "codemirror_mode": {
    "name": "ipython",
    "version": 3
   },
   "file_extension": ".py",
   "mimetype": "text/x-python",
   "name": "python",
   "nbconvert_exporter": "python",
   "pygments_lexer": "ipython3",
   "version": "3.12.7"
  }
 },
 "nbformat": 4,
 "nbformat_minor": 5
}
