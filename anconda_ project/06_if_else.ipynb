{
 "cells": [
  {
   "cell_type": "code",
   "execution_count": 6,
   "id": "15bbf60c-717e-4d50-9b10-d2066014af65",
   "metadata": {},
   "outputs": [],
   "source": [
    "a = 400"
   ]
  },
  {
   "cell_type": "code",
   "execution_count": 7,
   "id": "99d00011-436c-40b6-8a61-1b6c08695a60",
   "metadata": {},
   "outputs": [
    {
     "name": "stdout",
     "output_type": "stream",
     "text": [
      "greater\n"
     ]
    }
   ],
   "source": [
    "if(a>53):\n",
    "    print(\"greater\")\n",
    "else:\n",
    "    print(\"smaller\")"
   ]
  },
  {
   "cell_type": "code",
   "execution_count": 8,
   "id": "2409f7f2-e6d8-4212-8cc6-6096e7948d19",
   "metadata": {},
   "outputs": [
    {
     "name": "stdout",
     "output_type": "stream",
     "text": [
      "greater than 40\n"
     ]
    }
   ],
   "source": [
    "a = 41\n",
    "if a>50:\n",
    "    print(\"greater than 50\")\n",
    "elif(a>40):\n",
    "    print(\"greater than 40\")\n",
    "elif(a>30):\n",
    "    print(\"greater than 30\")\n",
    "else:\n",
    "    print(\"done!\")"
   ]
  },
  {
   "cell_type": "code",
   "execution_count": 9,
   "id": "f9dbf00a-6d65-4825-9bf4-68a41c68c52d",
   "metadata": {},
   "outputs": [],
   "source": [
    "def avg(a, b=10):\n",
    "    return (a+b)/2"
   ]
  },
  {
   "cell_type": "code",
   "execution_count": 13,
   "id": "5c9d6e5c-53b3-4d1f-9c23-bf4858121ba8",
   "metadata": {},
   "outputs": [
    {
     "data": {
      "text/plain": [
       "5.0"
      ]
     },
     "execution_count": 13,
     "metadata": {},
     "output_type": "execute_result"
    }
   ],
   "source": [
    "avg(4, 6)"
   ]
  },
  {
   "cell_type": "code",
   "execution_count": 19,
   "id": "868896d1-44ce-4145-8c0f-51464ab441f5",
   "metadata": {},
   "outputs": [],
   "source": [
    "def greet():\n",
    "    print(\"hello good morining\")"
   ]
  },
  {
   "cell_type": "code",
   "execution_count": 20,
   "id": "b420c681-61a4-4f1e-a18c-6714269ed8e8",
   "metadata": {},
   "outputs": [
    {
     "name": "stdout",
     "output_type": "stream",
     "text": [
      "hello good morining\n"
     ]
    }
   ],
   "source": [
    "greet()"
   ]
  },
  {
   "cell_type": "code",
   "execution_count": null,
   "id": "681f25c1-6582-4501-a631-b1fb6de23083",
   "metadata": {},
   "outputs": [],
   "source": []
  }
 ],
 "metadata": {
  "kernelspec": {
   "display_name": "Python 3 (ipykernel)",
   "language": "python",
   "name": "python3"
  },
  "language_info": {
   "codemirror_mode": {
    "name": "ipython",
    "version": 3
   },
   "file_extension": ".py",
   "mimetype": "text/x-python",
   "name": "python",
   "nbconvert_exporter": "python",
   "pygments_lexer": "ipython3",
   "version": "3.12.7"
  }
 },
 "nbformat": 4,
 "nbformat_minor": 5
}
