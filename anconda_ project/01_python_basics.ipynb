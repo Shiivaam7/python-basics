{
 "cells": [
  {
   "cell_type": "code",
   "execution_count": 1,
   "id": "947cca86-cd81-4a74-85a0-82854c8ff701",
   "metadata": {},
   "outputs": [],
   "source": [
    "a = 5"
   ]
  },
  {
   "cell_type": "code",
   "execution_count": 2,
   "id": "7fbf8aad-7213-4f41-a5a2-24c6d1032795",
   "metadata": {},
   "outputs": [],
   "source": [
    "b = 32"
   ]
  },
  {
   "cell_type": "code",
   "execution_count": 3,
   "id": "1d01cd0e-8620-44ed-9548-ab2aba7e5f12",
   "metadata": {},
   "outputs": [
    {
     "data": {
      "text/plain": [
       "37"
      ]
     },
     "execution_count": 3,
     "metadata": {},
     "output_type": "execute_result"
    }
   ],
   "source": [
    "a + b"
   ]
  },
  {
   "cell_type": "code",
   "execution_count": 7,
   "id": "3ed6c2d8-e545-45fa-a6b1-b318f831e906",
   "metadata": {},
   "outputs": [],
   "source": [
    "name = \"shivam\""
   ]
  },
  {
   "cell_type": "code",
   "execution_count": 8,
   "id": "fdcc7bd5-2e12-4342-917b-58ab5f7891e4",
   "metadata": {},
   "outputs": [
    {
     "name": "stdout",
     "output_type": "stream",
     "text": [
      "hello world\n"
     ]
    }
   ],
   "source": [
    "print(\"hello world\")"
   ]
  },
  {
   "cell_type": "code",
   "execution_count": 9,
   "id": "3ea1c5a6-b60f-42fa-ac0e-548a79e80e33",
   "metadata": {},
   "outputs": [
    {
     "name": "stdout",
     "output_type": "stream",
     "text": [
      "<class 'str'>\n"
     ]
    }
   ],
   "source": [
    "print(type(name))"
   ]
  },
  {
   "cell_type": "code",
   "execution_count": 10,
   "id": "f5a9e1f8-cb65-4094-bd66-2680988cf8f2",
   "metadata": {},
   "outputs": [
    {
     "name": "stdout",
     "output_type": "stream",
     "text": [
      "<class 'int'>\n"
     ]
    }
   ],
   "source": [
    "print(type(a))"
   ]
  },
  {
   "cell_type": "code",
   "execution_count": 11,
   "id": "4ad03210-404b-48ce-9128-039cdef988c3",
   "metadata": {},
   "outputs": [],
   "source": [
    "a = \"4566\""
   ]
  },
  {
   "cell_type": "code",
   "execution_count": 12,
   "id": "6918197b-876a-4462-9645-51b4c3a2782d",
   "metadata": {},
   "outputs": [],
   "source": [
    "b = \"4588\""
   ]
  },
  {
   "cell_type": "code",
   "execution_count": 13,
   "id": "1515a738-e2bb-4502-b355-4bee7e914941",
   "metadata": {},
   "outputs": [
    {
     "name": "stdout",
     "output_type": "stream",
     "text": [
      "45664588\n"
     ]
    }
   ],
   "source": [
    "print(a+b)"
   ]
  },
  {
   "cell_type": "code",
   "execution_count": 14,
   "id": "f516d898-c6b5-47b3-822f-bb64b1726bb5",
   "metadata": {},
   "outputs": [
    {
     "data": {
      "text/plain": [
       "9154"
      ]
     },
     "execution_count": 14,
     "metadata": {},
     "output_type": "execute_result"
    }
   ],
   "source": [
    "int(a) + int(b) # typecasting"
   ]
  },
  {
   "cell_type": "code",
   "execution_count": null,
   "id": "447768e5-3e00-4084-ba76-b03b1b44c201",
   "metadata": {},
   "outputs": [],
   "source": []
  }
 ],
 "metadata": {
  "kernelspec": {
   "display_name": "Python 3 (ipykernel)",
   "language": "python",
   "name": "python3"
  },
  "language_info": {
   "codemirror_mode": {
    "name": "ipython",
    "version": 3
   },
   "file_extension": ".py",
   "mimetype": "text/x-python",
   "name": "python",
   "nbconvert_exporter": "python",
   "pygments_lexer": "ipython3",
   "version": "3.12.7"
  }
 },
 "nbformat": 4,
 "nbformat_minor": 5
}
